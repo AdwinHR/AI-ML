{
 "cells": [
  {
   "cell_type": "code",
   "execution_count": 18,
   "metadata": {},
   "outputs": [
    {
     "name": "stdout",
     "output_type": "stream",
     "text": [
      "Input: \n",
      "[[0.22222222 1.        ]\n",
      " [0.11111111 0.55555556]\n",
      " [0.33333333 0.66666667]]\n",
      "Actual output: \n",
      "[[0.92]\n",
      " [0.86]\n",
      " [0.89]]\n",
      "Predicted output: \n",
      " [[0.89611461]\n",
      " [0.88244294]\n",
      " [0.88979615]]\n"
     ]
    }
   ],
   "source": [
    "import numpy as np\n",
    "x = np.array(([2,9],[1,5],[3,6]), dtype=float)\n",
    "y = np.array(([92],[86],[89]), dtype=float)\n",
    "\n",
    "x = x/np.amax(x)\n",
    "y = y/100\n",
    "\n",
    "def sigmoid(x):\n",
    "    return 1/(1 + np.exp(-x))\n",
    "#def derivatives_sigmoid(x):\n",
    "#     return x *(1 - x)\n",
    "\n",
    "\n",
    "epoch=100 #Setting training iterations\n",
    "lr=0.1\n",
    "in_nu = 2\n",
    "hidd_nu = 4\n",
    "out_nu = 1\n",
    "\n",
    "weight_hidd=np.random.uniform(size=(in_nu,hidd_nu))\n",
    "bias_hidd = np.random.uniform(size=(1,hidd_nu))\n",
    "weight_out = np.random.uniform(size=(hidd_nu,out_nu))\n",
    "bias_hidd = np.random.uniform(size=(1,hidd_nu))\n",
    "bias_out =np.random.uniform(size=(1,out_nu))\n",
    "\n",
    "for i in range(epoch):\n",
    "    hidd_in=np.dot(x,weight_hidd) + bias_hidd\n",
    "    hidd_act = sigmoid(hidd_in)\n",
    "    out_in=np.dot(hidd_act,weight_out) + bias_out\n",
    "    out = sigmoid(out_in)\n",
    "    \n",
    "print(\"Input: \\n\" + str(x))\n",
    "print(\"Actual output: \\n\" + str(y))\n",
    "print(\"Predicted output: \\n\" ,out)"
   ]
  },
  {
   "cell_type": "code",
   "execution_count": 13,
   "metadata": {},
   "outputs": [
    {
     "data": {
      "text/plain": [
       "array([[0.73635479, 0.03369567, 0.97973159, 0.71735053],\n",
       "       [0.19701449, 0.83671858, 0.57897856, 0.83907264]])"
      ]
     },
     "execution_count": 13,
     "metadata": {},
     "output_type": "execute_result"
    }
   ],
   "source": [
    "weight_hidd=np.random.uniform(size=(in_nu,hidd_nu))\n",
    "weight_hidd"
   ]
  },
  {
   "cell_type": "code",
   "execution_count": 10,
   "metadata": {},
   "outputs": [
    {
     "data": {
      "text/plain": [
       "array([[0.22222222, 1.        ],\n",
       "       [0.11111111, 0.55555556],\n",
       "       [0.33333333, 0.66666667]])"
      ]
     },
     "execution_count": 10,
     "metadata": {},
     "output_type": "execute_result"
    }
   ],
   "source": [
    "x = np.array(([2,9],[1,5],[3,6]), dtype=float)\n",
    "x = x/np.amax(x)\n",
    "x"
   ]
  },
  {
   "cell_type": "code",
   "execution_count": 11,
   "metadata": {},
   "outputs": [
    {
     "data": {
      "text/plain": [
       "array([[1.        ],\n",
       "       [0.93478261],\n",
       "       [0.9673913 ]])"
      ]
     },
     "execution_count": 11,
     "metadata": {},
     "output_type": "execute_result"
    }
   ],
   "source": [
    "y = np.array(([92],[86],[89]), dtype=float) \n",
    "y = y/np.amax(y)\n",
    "y"
   ]
  }
 ],
 "metadata": {
  "kernelspec": {
   "display_name": "Python 3",
   "language": "python",
   "name": "python3"
  },
  "language_info": {
   "codemirror_mode": {
    "name": "ipython",
    "version": 3
   },
   "file_extension": ".py",
   "mimetype": "text/x-python",
   "name": "python",
   "nbconvert_exporter": "python",
   "pygments_lexer": "ipython3",
   "version": "3.7.4"
  }
 },
 "nbformat": 4,
 "nbformat_minor": 2
}
