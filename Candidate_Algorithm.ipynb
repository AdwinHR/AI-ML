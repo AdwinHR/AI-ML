{
  "nbformat": 4,
  "nbformat_minor": 0,
  "metadata": {
    "colab": {
      "name": "Candidate Algorithm.ipynb",
      "provenance": []
    },
    "kernelspec": {
      "name": "python3",
      "display_name": "Python 3"
    },
    "language_info": {
      "name": "python"
    }
  },
  "cells": [
    {
      "cell_type": "code",
      "metadata": {
        "colab": {
          "base_uri": "https://localhost:8080/",
          "height": 173
        },
        "id": "Epg2YR4L6iqr",
        "outputId": "a4bb5aab-697f-4434-8326-e02fdea01915"
      },
      "source": [
        "import pandas as pd \n",
        "import numpy as np\n",
        "\n",
        "data = pd.read_csv('play.csv') \n",
        "concept = np.array(data)[:,:-1] \n",
        "target = np.array(data)[:,-1]\n",
        "\n",
        "data.head()"
      ],
      "execution_count": 1,
      "outputs": [
        {
          "output_type": "execute_result",
          "data": {
            "text/html": [
              "<div>\n",
              "<style scoped>\n",
              "    .dataframe tbody tr th:only-of-type {\n",
              "        vertical-align: middle;\n",
              "    }\n",
              "\n",
              "    .dataframe tbody tr th {\n",
              "        vertical-align: top;\n",
              "    }\n",
              "\n",
              "    .dataframe thead th {\n",
              "        text-align: right;\n",
              "    }\n",
              "</style>\n",
              "<table border=\"1\" class=\"dataframe\">\n",
              "  <thead>\n",
              "    <tr style=\"text-align: right;\">\n",
              "      <th></th>\n",
              "      <th>sky</th>\n",
              "      <th>temp</th>\n",
              "      <th>humid</th>\n",
              "      <th>wind</th>\n",
              "      <th>water</th>\n",
              "      <th>forcast</th>\n",
              "      <th>play</th>\n",
              "    </tr>\n",
              "  </thead>\n",
              "  <tbody>\n",
              "    <tr>\n",
              "      <th>0</th>\n",
              "      <td>sunny</td>\n",
              "      <td>warm</td>\n",
              "      <td>normal</td>\n",
              "      <td>strong</td>\n",
              "      <td>warm</td>\n",
              "      <td>same</td>\n",
              "      <td>yes</td>\n",
              "    </tr>\n",
              "    <tr>\n",
              "      <th>1</th>\n",
              "      <td>sunny</td>\n",
              "      <td>warm</td>\n",
              "      <td>high</td>\n",
              "      <td>strong</td>\n",
              "      <td>warm</td>\n",
              "      <td>same</td>\n",
              "      <td>yes</td>\n",
              "    </tr>\n",
              "    <tr>\n",
              "      <th>2</th>\n",
              "      <td>rainy</td>\n",
              "      <td>cold</td>\n",
              "      <td>high</td>\n",
              "      <td>strong</td>\n",
              "      <td>warm</td>\n",
              "      <td>same</td>\n",
              "      <td>no</td>\n",
              "    </tr>\n",
              "    <tr>\n",
              "      <th>3</th>\n",
              "      <td>sunny</td>\n",
              "      <td>warm</td>\n",
              "      <td>high</td>\n",
              "      <td>strong</td>\n",
              "      <td>cool</td>\n",
              "      <td>change</td>\n",
              "      <td>yes</td>\n",
              "    </tr>\n",
              "  </tbody>\n",
              "</table>\n",
              "</div>"
            ],
            "text/plain": [
              "     sky  temp   humid    wind water forcast play\n",
              "0  sunny  warm  normal  strong  warm    same  yes\n",
              "1  sunny  warm    high  strong  warm    same  yes\n",
              "2  rainy  cold    high  strong  warm    same   no\n",
              "3  sunny  warm    high  strong  cool  change  yes"
            ]
          },
          "metadata": {
            "tags": []
          },
          "execution_count": 1
        }
      ]
    },
    {
      "cell_type": "code",
      "metadata": {
        "colab": {
          "base_uri": "https://localhost:8080/"
        },
        "id": "Pji0kmll63Lx",
        "outputId": "a6be4b36-73db-487c-8fbc-da36a5853a9c"
      },
      "source": [
        "def train(con,tar): \n",
        "    specific = con[0].copy() \n",
        "    general=[['?' for x in range(len(specific))] for x in range(len(specific))] \n",
        "    for i,val in enumerate(con): \n",
        "        if tar[i] == 'yes': \n",
        "            for x in range(len(specific)): \n",
        "                if val[x] != specific[x]: \n",
        "                    specific[x] = '?' \n",
        "                    general[x][x] = '?' \n",
        "        else: \n",
        "            for x in range(len(specific)): \n",
        "                if val[x] != specific[x]: \n",
        "                    general[x][x] = specific[x] \n",
        "                else: \n",
        "                    general[x][x]='?' \n",
        "        print(\"Iteration[\"+ str(i+1) + \"]\") \n",
        "        print(\"Specific: \"+str(specific)) \n",
        "        print(\"General: \"+str(general)+\"\\n\\n\") \n",
        "    general =[general[i] for i,val in enumerate(general) if val != ['?' for x in range(len(specific))]] \n",
        "    return specific, general\n",
        "\n",
        "specific,general = train(concept,target) \n",
        "print(\"--------Final hypothesis-------\") \n",
        "print(\"Specific hypothesis: \" +str(specific)) \n",
        "print(\"General hypothses: \"+ str(general))"
      ],
      "execution_count": 2,
      "outputs": [
        {
          "output_type": "stream",
          "text": [
            "Iteration[1]\n",
            "Specific: ['sunny' 'warm' 'normal' 'strong' 'warm' 'same']\n",
            "General: [['?', '?', '?', '?', '?', '?'], ['?', '?', '?', '?', '?', '?'], ['?', '?', '?', '?', '?', '?'], ['?', '?', '?', '?', '?', '?'], ['?', '?', '?', '?', '?', '?'], ['?', '?', '?', '?', '?', '?']]\n",
            "\n",
            "\n",
            "Iteration[2]\n",
            "Specific: ['sunny' 'warm' '?' 'strong' 'warm' 'same']\n",
            "General: [['?', '?', '?', '?', '?', '?'], ['?', '?', '?', '?', '?', '?'], ['?', '?', '?', '?', '?', '?'], ['?', '?', '?', '?', '?', '?'], ['?', '?', '?', '?', '?', '?'], ['?', '?', '?', '?', '?', '?']]\n",
            "\n",
            "\n",
            "Iteration[3]\n",
            "Specific: ['sunny' 'warm' '?' 'strong' 'warm' 'same']\n",
            "General: [['sunny', '?', '?', '?', '?', '?'], ['?', 'warm', '?', '?', '?', '?'], ['?', '?', '?', '?', '?', '?'], ['?', '?', '?', '?', '?', '?'], ['?', '?', '?', '?', '?', '?'], ['?', '?', '?', '?', '?', '?']]\n",
            "\n",
            "\n",
            "Iteration[4]\n",
            "Specific: ['sunny' 'warm' '?' 'strong' '?' '?']\n",
            "General: [['sunny', '?', '?', '?', '?', '?'], ['?', 'warm', '?', '?', '?', '?'], ['?', '?', '?', '?', '?', '?'], ['?', '?', '?', '?', '?', '?'], ['?', '?', '?', '?', '?', '?'], ['?', '?', '?', '?', '?', '?']]\n",
            "\n",
            "\n",
            "--------Final hypothesis-------\n",
            "Specific hypothesis: ['sunny' 'warm' '?' 'strong' '?' '?']\n",
            "General hypothses: [['sunny', '?', '?', '?', '?', '?'], ['?', 'warm', '?', '?', '?', '?']]\n"
          ],
          "name": "stdout"
        }
      ]
    }
  ]
}