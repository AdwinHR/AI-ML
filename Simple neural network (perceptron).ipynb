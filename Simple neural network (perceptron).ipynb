{
  "nbformat": 4,
  "nbformat_minor": 0,
  "metadata": {
    "colab": {
      "name": "Untitled3.ipynb",
      "provenance": []
    },
    "kernelspec": {
      "name": "python3",
      "display_name": "Python 3"
    },
    "language_info": {
      "name": "python"
    }
  },
  "cells": [
    {
      "cell_type": "code",
      "metadata": {
        "colab": {
          "base_uri": "https://localhost:8080/"
        },
        "id": "RRXwD78EbMb8",
        "outputId": "0d0c38b9-0e83-4496-8db7-9d2540ae0640"
      },
      "source": [
        "\n",
        "import numpy as np\n",
        "\n",
        "def NN(x1,x2,w1,w2,b):\n",
        "    yin =x1*w1+x2*w2+b\n",
        "    return sigmoid(yin)\n",
        "\n",
        "def sigmoid(x):\n",
        "    return 1/(1+np.exp(-x))\n",
        "\n",
        "NN(1,1,1,1,1,)"
      ],
      "execution_count": 1,
      "outputs": [
        {
          "output_type": "execute_result",
          "data": {
            "text/plain": [
              "0.9525741268224334"
            ]
          },
          "metadata": {
            "tags": []
          },
          "execution_count": 1
        }
      ]
    },
    {
      "cell_type": "code",
      "metadata": {
        "colab": {
          "base_uri": "https://localhost:8080/"
        },
        "id": "-4esSHFPt1rC",
        "outputId": "a36136fd-5446-435c-d273-66a7d255d458"
      },
      "source": [
        "import numpy as np\n",
        "\n",
        "def sigmoid(x):\n",
        "    return 1/(1+np.exp(-x))\n",
        "\n",
        "def sigmoid_derivation(x):\n",
        "    return x*(x-1)\n",
        "\n",
        "input = np.array([[0,0,1],\n",
        "                  [1,1,1],\n",
        "                  [1,0,1],\n",
        "                  [0,1,1]])\n",
        "\n",
        "a_output = np.array([[0,1,1,0]]).T \n",
        "\n",
        "np.random.seed(1)\n",
        "\n",
        "weights =  2* np.random.random((3,1)) -1\n",
        "\n",
        "print('Initial weigths are:')\n",
        "print(weights)\n",
        "\n",
        "\n",
        "for i in range(10000):    \n",
        "    input_layer = input\n",
        "    o_output = sigmoid(np.dot(input_layer,weights))\n",
        "\n",
        "    loss = o_output - a_output\n",
        "    \n",
        "    adjustment = loss * sigmoid_derivation(o_output)\n",
        "    \n",
        "    weights = weights +np.dot(input_layer.T, adjustment)\n",
        "     \n",
        "print('new weights are:')\n",
        "print(weights)\n",
        "\n",
        "print('obtained output values are')\n",
        "print(o_output)"
      ],
      "execution_count": 2,
      "outputs": [
        {
          "output_type": "stream",
          "text": [
            "Initial weigths are:\n",
            "[[-0.16595599]\n",
            " [ 0.44064899]\n",
            " [-0.99977125]]\n",
            "new weights are:\n",
            "[[ 9.67299303]\n",
            " [-0.2078435 ]\n",
            " [-4.62963669]]\n",
            "obtained output values are\n",
            "[[0.00966449]\n",
            " [0.99211957]\n",
            " [0.99358898]\n",
            " [0.00786506]]\n"
          ],
          "name": "stdout"
        }
      ]
    }
  ]
}