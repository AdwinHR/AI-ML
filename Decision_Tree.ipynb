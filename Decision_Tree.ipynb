{
  "nbformat": 4,
  "nbformat_minor": 0,
  "metadata": {
    "colab": {
      "name": "Decision Tree.ipynb",
      "provenance": []
    },
    "kernelspec": {
      "display_name": "Python 3",
      "name": "python3"
    },
    "language_info": {
      "name": "python"
    }
  },
  "cells": [
    {
      "cell_type": "code",
      "metadata": {
        "colab": {
          "base_uri": "https://localhost:8080/"
        },
        "id": "VBIdrjEIh-II",
        "outputId": "3b4d5876-ad3f-441b-9157-0419edaab731"
      },
      "source": [
        "import numpy as np\n",
        "import pandas as pd \n",
        "import matplotlib.pyplot as plt\n",
        "from sklearn import tree, metrics, model_selection, preprocessing\n",
        "from sklearn.metrics import confusion_matrix\n",
        "\n",
        "\n",
        "df = pd.read_csv('iris.csv')\n",
        "df['species_label'],i = pd.factorize(df['species'])\n",
        "df['species'].unique()\n",
        "df['species_label'].unique()"
      ],
      "execution_count": 2,
      "outputs": [
        {
          "output_type": "execute_result",
          "data": {
            "text/plain": [
              "array([0, 1, 2])"
            ]
          },
          "metadata": {
            "tags": []
          },
          "execution_count": 2
        }
      ]
    },
    {
      "cell_type": "code",
      "metadata": {
        "id": "gXjbIJ-Kv_V3",
        "colab": {
          "base_uri": "https://localhost:8080/"
        },
        "outputId": "5acfeb6f-c10b-4ca5-ef46-7d73396df6fb"
      },
      "source": [
        "y = df['species_label']\n",
        "x = df[['sepal.length','sepal.width','petal.length','petal.width']]\n",
        "\n",
        "x_train, x_test, y_train, y_test = model_selection.train_test_split(x, y, test_size=0.3, random_state=0)\n",
        "\n",
        "dtree = tree.DecisionTreeClassifier(criterion='entropy', max_depth=3)\n",
        "dtree.fit(x_train, y_train)"
      ],
      "execution_count": 3,
      "outputs": [
        {
          "output_type": "execute_result",
          "data": {
            "text/plain": [
              "DecisionTreeClassifier(ccp_alpha=0.0, class_weight=None, criterion='entropy',\n",
              "                       max_depth=3, max_features=None, max_leaf_nodes=None,\n",
              "                       min_impurity_decrease=0.0, min_impurity_split=None,\n",
              "                       min_samples_leaf=1, min_samples_split=2,\n",
              "                       min_weight_fraction_leaf=0.0, presort='deprecated',\n",
              "                       random_state=None, splitter='best')"
            ]
          },
          "metadata": {
            "tags": []
          },
          "execution_count": 3
        }
      ]
    },
    {
      "cell_type": "code",
      "metadata": {
        "id": "1vf6wl5Kv50T",
        "colab": {
          "base_uri": "https://localhost:8080/"
        },
        "outputId": "e420cf35-35b1-45cd-c4a7-322bb4b7eb98"
      },
      "source": [
        "y_pred = dtree.predict(x_test)\n",
        "\n",
        "accuracy = metrics.accuracy_score(y_test, y_pred)\n",
        "print('Accuracy:{:.2f}'.format(accuracy))"
      ],
      "execution_count": 4,
      "outputs": [
        {
          "output_type": "stream",
          "text": [
            "Accuracy:0.98\n"
          ],
          "name": "stdout"
        }
      ]
    },
    {
      "cell_type": "code",
      "metadata": {
        "id": "pt_BlfcHv13r",
        "colab": {
          "base_uri": "https://localhost:8080/"
        },
        "outputId": "31e0de2b-e792-4aa9-b03e-27ed80c9974d"
      },
      "source": [
        "print(confusion_matrix(y_test, y_pred))"
      ],
      "execution_count": 5,
      "outputs": [
        {
          "output_type": "stream",
          "text": [
            "[[16  0  0]\n",
            " [ 0 17  1]\n",
            " [ 0  0 11]]\n"
          ],
          "name": "stdout"
        }
      ]
    }
  ]
}