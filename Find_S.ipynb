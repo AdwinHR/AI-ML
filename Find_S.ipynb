{
  "nbformat": 4,
  "nbformat_minor": 0,
  "metadata": {
    "colab": {
      "name": "Find S.ipynb",
      "provenance": []
    },
    "kernelspec": {
      "name": "python3",
      "display_name": "Python 3"
    },
    "language_info": {
      "name": "python"
    }
  },
  "cells": [
    {
      "cell_type": "code",
      "metadata": {
        "colab": {
          "base_uri": "https://localhost:8080/",
          "height": 173
        },
        "id": "rR0aDIog6S3R",
        "outputId": "9c6bda95-f1d3-4210-f2cc-743f32dfc692"
      },
      "source": [
        "import pandas as pd \n",
        "import numpy as np\n",
        "\n",
        "data = pd.read_csv('play.csv')\n",
        "\n",
        "data.head()"
      ],
      "execution_count": 3,
      "outputs": [
        {
          "output_type": "execute_result",
          "data": {
            "text/html": [
              "<div>\n",
              "<style scoped>\n",
              "    .dataframe tbody tr th:only-of-type {\n",
              "        vertical-align: middle;\n",
              "    }\n",
              "\n",
              "    .dataframe tbody tr th {\n",
              "        vertical-align: top;\n",
              "    }\n",
              "\n",
              "    .dataframe thead th {\n",
              "        text-align: right;\n",
              "    }\n",
              "</style>\n",
              "<table border=\"1\" class=\"dataframe\">\n",
              "  <thead>\n",
              "    <tr style=\"text-align: right;\">\n",
              "      <th></th>\n",
              "      <th>sky</th>\n",
              "      <th>temp</th>\n",
              "      <th>humid</th>\n",
              "      <th>wind</th>\n",
              "      <th>water</th>\n",
              "      <th>forcast</th>\n",
              "      <th>play</th>\n",
              "    </tr>\n",
              "  </thead>\n",
              "  <tbody>\n",
              "    <tr>\n",
              "      <th>0</th>\n",
              "      <td>sunny</td>\n",
              "      <td>warm</td>\n",
              "      <td>normal</td>\n",
              "      <td>strong</td>\n",
              "      <td>warm</td>\n",
              "      <td>same</td>\n",
              "      <td>yes</td>\n",
              "    </tr>\n",
              "    <tr>\n",
              "      <th>1</th>\n",
              "      <td>sunny</td>\n",
              "      <td>warm</td>\n",
              "      <td>high</td>\n",
              "      <td>strong</td>\n",
              "      <td>warm</td>\n",
              "      <td>same</td>\n",
              "      <td>yes</td>\n",
              "    </tr>\n",
              "    <tr>\n",
              "      <th>2</th>\n",
              "      <td>rainy</td>\n",
              "      <td>cold</td>\n",
              "      <td>high</td>\n",
              "      <td>strong</td>\n",
              "      <td>warm</td>\n",
              "      <td>same</td>\n",
              "      <td>no</td>\n",
              "    </tr>\n",
              "    <tr>\n",
              "      <th>3</th>\n",
              "      <td>sunny</td>\n",
              "      <td>warm</td>\n",
              "      <td>high</td>\n",
              "      <td>strong</td>\n",
              "      <td>cool</td>\n",
              "      <td>change</td>\n",
              "      <td>yes</td>\n",
              "    </tr>\n",
              "  </tbody>\n",
              "</table>\n",
              "</div>"
            ],
            "text/plain": [
              "     sky  temp   humid    wind water forcast play\n",
              "0  sunny  warm  normal  strong  warm    same  yes\n",
              "1  sunny  warm    high  strong  warm    same  yes\n",
              "2  rainy  cold    high  strong  warm    same   no\n",
              "3  sunny  warm    high  strong  cool  change  yes"
            ]
          },
          "metadata": {
            "tags": []
          },
          "execution_count": 3
        }
      ]
    },
    {
      "cell_type": "code",
      "metadata": {
        "colab": {
          "base_uri": "https://localhost:8080/"
        },
        "id": "-LULuCqT3nns",
        "outputId": "6229a104-f25d-49ba-96cd-7457b8a63694"
      },
      "source": [
        "concept = np.array(data)[:,:-1] \n",
        "target = np.array(data)[:,-1]\n",
        "\n",
        "def train(tar,con): \n",
        "    for i,val in enumerate(tar): \n",
        "        if val =='yes': \n",
        "            specific = con[i].copy() \n",
        "        break\n",
        "    for i,val in enumerate(con): \n",
        "        if tar[i] =='yes': \n",
        "            for x in range(len(specific)): \n",
        "                if val[x] != specific[x]: \n",
        "                    specific[x] = '?' \n",
        "                else: \n",
        "                    pass \n",
        "        print(\"specific [\",(i+1),\"]:\",str(specific)) \n",
        "    return specific\n",
        "print(train(target,concept))"
      ],
      "execution_count": 4,
      "outputs": [
        {
          "output_type": "stream",
          "text": [
            "specific [ 1 ]: ['sunny' 'warm' 'normal' 'strong' 'warm' 'same']\n",
            "specific [ 2 ]: ['sunny' 'warm' '?' 'strong' 'warm' 'same']\n",
            "specific [ 3 ]: ['sunny' 'warm' '?' 'strong' 'warm' 'same']\n",
            "specific [ 4 ]: ['sunny' 'warm' '?' 'strong' '?' '?']\n",
            "['sunny' 'warm' '?' 'strong' '?' '?']\n"
          ],
          "name": "stdout"
        }
      ]
    }
  ]
}